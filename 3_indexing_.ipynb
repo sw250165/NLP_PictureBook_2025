{
  "nbformat": 4,
  "nbformat_minor": 0,
  "metadata": {
    "colab": {
      "provenance": [],
      "include_colab_link": true
    },
    "kernelspec": {
      "name": "python3",
      "display_name": "Python 3"
    },
    "language_info": {
      "name": "python"
    }
  },
  "cells": [
    {
      "cell_type": "markdown",
      "metadata": {
        "id": "view-in-github",
        "colab_type": "text"
      },
      "source": [
        "<a href=\"https://colab.research.google.com/github/sw250165/NLP_PictureBook_2025/blob/main/3_indexing_.ipynb\" target=\"_parent\"><img src=\"https://colab.research.google.com/assets/colab-badge.svg\" alt=\"Open In Colab\"/></a>"
      ]
    },
    {
      "cell_type": "markdown",
      "source": [
        "# 📌 Indexing of Sequence Data\n",
        "\n",
        "| str data | I |   | l | o | v | e |  | P | y | t | h | o |n | ! |\n",
        "|:---------|:--|:--|:--|:--|:--|:--|:--|:--|:--|:--|:--|:-|:-|:-:|\n",
        "| Forward Indexing | 0 | 1 | 2 | 3 | 4 | 5 | 6 | 7 | 8 | 9 | 10| 11| 12|13|\n",
        "| Backward Indexing|-14| -13| -12| -11| -10| -9| -8| -7| -6| -5| -4| -3| -2|-1|\n",
        "\n",
        "\n",
        "\n",
        "\n",
        "# ⚾ ⚽ 🏀 🎾 🎯 It is time to get some exercise!"
      ],
      "metadata": {
        "id": "hz0-YwDvaAYj"
      }
    },
    {
      "cell_type": "code",
      "source": [
        "str = 'micky 17'\n",
        "\n",
        "print(str[1])\n",
        "print(str[2])\n",
        "print(str[3])\n",
        "print(str[4])\n",
        "print(str[5])\n",
        "print(str[6])\n",
        "print(str[7])"
      ],
      "metadata": {
        "colab": {
          "base_uri": "https://localhost:8080/"
        },
        "id": "X90JiUrmc8S3",
        "outputId": "e361a4a2-c2a4-4fea-8300-88df48bf2c3b"
      },
      "execution_count": null,
      "outputs": [
        {
          "output_type": "stream",
          "name": "stdout",
          "text": [
            "i\n",
            "c\n",
            "k\n",
            "y\n",
            " \n",
            "1\n",
            "7\n"
          ]
        }
      ]
    },
    {
      "cell_type": "code",
      "source": [
        "str = 'micky 17'\n",
        "\n",
        "print(str[-1])\n",
        "print(str[-2])\n",
        "print(str[-3])\n",
        "print(str[-4])\n",
        "print(str[-5])\n",
        "print(str[-6])\n",
        "print(str[-7])\n",
        "print(str[-8])"
      ],
      "metadata": {
        "colab": {
          "base_uri": "https://localhost:8080/"
        },
        "id": "-1xUYa1EeJpv",
        "outputId": "f3ec86d6-3720-43b3-f3c1-19e2edf4c113"
      },
      "execution_count": null,
      "outputs": [
        {
          "output_type": "stream",
          "name": "stdout",
          "text": [
            "7\n",
            "1\n",
            " \n",
            "y\n",
            "k\n",
            "c\n",
            "i\n",
            "m\n"
          ]
        }
      ]
    },
    {
      "cell_type": "code",
      "source": [
        "#@markdown 📌 Apply indices to List data\n",
        "\n",
        "#@markdown ## Replacment by means of using indices\n",
        "\n",
        "list_data = ['apple', 'banana', 'grape', 'mango']\n",
        "list_data[0] = 'shine musket'\n",
        "\n",
        "print (list_data)"
      ],
      "metadata": {
        "id": "a7fl8AK3jCTR",
        "outputId": "89adc4f1-da4a-4767-bac1-b0c30a753f66",
        "colab": {
          "base_uri": "https://localhost:8080/"
        },
        "cellView": "form"
      },
      "execution_count": null,
      "outputs": [
        {
          "output_type": "stream",
          "name": "stdout",
          "text": [
            "['shine musket', 'banana', 'grape', 'mango']\n"
          ]
        }
      ]
    },
    {
      "cell_type": "markdown",
      "source": [
        "#시퀀스 자료 연결하기 (+)\n",
        "  -자료형이 동일한 두 개의 시퀀스 자료는 연결 가능\n",
        "  \n",
        "\n",
        "#시퀀스 자료 반복하기 (*숫자)"
      ],
      "metadata": {
        "id": "M_oQWafaH5Sf"
      }
    },
    {
      "cell_type": "code",
      "source": [
        "strdata1 = 'I love'; strdata2='Python'\n",
        "print (strdata1 + strdata2)\n",
        "print(strdata1*5)"
      ],
      "metadata": {
        "id": "9f7DeKbGIN4g",
        "outputId": "d4042a07-aaf1-45d5-b295-d1e4ab7558e4",
        "colab": {
          "base_uri": "https://localhost:8080/"
        }
      },
      "execution_count": null,
      "outputs": [
        {
          "output_type": "stream",
          "name": "stdout",
          "text": [
            "I lovePython\n",
            "I loveI loveI loveI loveI love\n"
          ]
        }
      ]
    },
    {
      "cell_type": "markdown",
      "source": [
        "###  👀 🐾 **Make a wild guess how to <font color = 'red'> add space</font> between 'love' and 'Python.'**"
      ],
      "metadata": {
        "id": "KVg9q5iWqAlN"
      }
    },
    {
      "cell_type": "code",
      "source": [
        "#@markdown 💊 **Possibility 1️⃣ 💡**\n",
        "\n",
        "strdata1 = 'I love '; strdata2='Python'\n",
        "print (strdata1 + strdata2)"
      ],
      "metadata": {
        "cellView": "form",
        "id": "rknO5rNWqMN_",
        "colab": {
          "base_uri": "https://localhost:8080/"
        },
        "outputId": "6aa8362c-508a-4c70-a8ec-f6ac405bedf1"
      },
      "execution_count": null,
      "outputs": [
        {
          "output_type": "stream",
          "name": "stdout",
          "text": [
            "I love Python\n"
          ]
        }
      ]
    },
    {
      "cell_type": "code",
      "source": [
        "#@markdown 💊 **Possibility 2️⃣ 💡**\n",
        "\n",
        "strdata1 = 'I love '; strdata2=' Python'\n",
        "print (strdata1 + strdata2)"
      ],
      "metadata": {
        "cellView": "form",
        "id": "KFsPImzMrW05",
        "colab": {
          "base_uri": "https://localhost:8080/"
        },
        "outputId": "3630f0dc-dbaa-40e3-d2d8-4338154ce0ce"
      },
      "execution_count": null,
      "outputs": [
        {
          "output_type": "stream",
          "name": "stdout",
          "text": [
            "I love  Python\n"
          ]
        }
      ]
    },
    {
      "cell_type": "code",
      "source": [
        "#@markdown 💊 **Possibility 3️⃣ 💡**\n",
        "\n",
        "strdata1 = 'I love'; strdata0 = ' '; strdata2='Python'\n",
        "print (strdata1 + strdata0 + strdata2)"
      ],
      "metadata": {
        "cellView": "form",
        "id": "guhCjTVJrmyh",
        "colab": {
          "base_uri": "https://localhost:8080/"
        },
        "outputId": "2b246f3e-3c87-4e05-d7c1-b697003e90ee"
      },
      "execution_count": null,
      "outputs": [
        {
          "output_type": "stream",
          "name": "stdout",
          "text": [
            "I love Python\n"
          ]
        }
      ]
    },
    {
      "cell_type": "code",
      "source": [
        "subject = 'BTS'; verb= 'sings'; object = 'Butter'\n",
        "sentence = subject + verb + object * 5\n",
        "print(sentence)\n"
      ],
      "metadata": {
        "id": "4Cx2C_BTIpQy",
        "outputId": "9bdaedb1-5607-4040-fc52-1475f6d62d35",
        "colab": {
          "base_uri": "https://localhost:8080/"
        }
      },
      "execution_count": null,
      "outputs": [
        {
          "output_type": "stream",
          "name": "stdout",
          "text": [
            "BTSsingsButterButterButterButterButter\n"
          ]
        }
      ]
    },
    {
      "cell_type": "code",
      "source": [
        "#@markdown 💊 Possibility 1️⃣ 💡\n",
        "\n",
        "subject = 'BTS'; verb= 'sings'; object = 'Butter'; space = ' '\n",
        "sentence = subject + space + verb + space + object * 5\n",
        "print(sentence)"
      ],
      "metadata": {
        "id": "fvOfcWA9uOfJ",
        "colab": {
          "base_uri": "https://localhost:8080/"
        },
        "outputId": "a8b1e704-a263-4422-9362-6adc1daa9d9b"
      },
      "execution_count": null,
      "outputs": [
        {
          "output_type": "stream",
          "name": "stdout",
          "text": [
            "BTS sings ButterButterButterButterButter\n"
          ]
        }
      ]
    },
    {
      "cell_type": "code",
      "source": [
        "#@markdown 시퀀스 자료 크기 이해하기 (len)\n",
        "\n",
        "str_data = 'abcdefghijklmnopqrstuvwxyz'\n",
        "print(len(str_data))"
      ],
      "metadata": {
        "id": "-Y7LAfeXKDsO",
        "outputId": "2c1745d9-d3cf-400c-fd23-cb789daa767d",
        "colab": {
          "base_uri": "https://localhost:8080/"
        }
      },
      "execution_count": null,
      "outputs": [
        {
          "output_type": "stream",
          "name": "stdout",
          "text": [
            "26\n"
          ]
        }
      ]
    }
  ]
}